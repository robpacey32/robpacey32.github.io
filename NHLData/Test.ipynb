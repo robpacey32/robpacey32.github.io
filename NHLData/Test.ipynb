import requests
import pandas as pd
import datetime as dt
from datetime import datetime, timedelta
import json
import ast
import numpy as np
import gdown
from functools import reduce
import os
import subprocess
